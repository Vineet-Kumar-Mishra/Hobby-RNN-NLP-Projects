{
 "cells": [
  {
   "cell_type": "markdown",
   "id": "d70f57ac",
   "metadata": {},
   "source": [
    "# Importing important libraries and connecting the GPU"
   ]
  },
  {
   "cell_type": "code",
   "execution_count": 1,
   "id": "96b12a44",
   "metadata": {},
   "outputs": [],
   "source": [
    "import tensorflow as tf\n",
    "from tensorflow.keras.models import Model\n",
    "from tensorflow.keras.layers import Input, Dense, Flatten, LSTM\n",
    "import numpy as np\n",
    "import matplotlib.pyplot as plt"
   ]
  },
  {
   "cell_type": "code",
   "execution_count": 2,
   "id": "6fcfded9",
   "metadata": {},
   "outputs": [
    {
     "name": "stdout",
     "output_type": "stream",
     "text": [
      "Num of GPUs found 1\n"
     ]
    }
   ],
   "source": [
    "physical_devices = tf.config.experimental.list_physical_devices('GPU')\n",
    "print(\"Num of GPUs found\", len(physical_devices))\n",
    "tf.config.experimental.set_memory_growth(physical_devices[0], True)"
   ]
  },
  {
   "cell_type": "markdown",
   "id": "e4dd138a",
   "metadata": {},
   "source": [
    "# Load the MNIST data from keras datasets\n",
    "## The data is loaded as 3 dimensional vector as (N, 28, 28) which can be used as 28 series of 28 dimensions\n",
    "## This way we can do the classification task using LSTM"
   ]
  },
  {
   "cell_type": "code",
   "execution_count": 3,
   "id": "b84ffa3e",
   "metadata": {},
   "outputs": [],
   "source": [
    "mnist_data = tf.keras.datasets.mnist\n",
    "\n",
    "(X_train, y_train),(X_test, y_test) = mnist_data.load_data()\n",
    "\n",
    "X_train = X_train/255.0\n",
    "X_test = X_test/255.0"
   ]
  },
  {
   "cell_type": "markdown",
   "id": "d5da23be",
   "metadata": {},
   "source": [
    "# Model\n",
    "## Functional API of keras is used\n",
    "## We use LSTM iwth 125 neurons and an output layer with 10 neurons and softmax activation"
   ]
  },
  {
   "cell_type": "code",
   "execution_count": 4,
   "id": "35426c9f",
   "metadata": {},
   "outputs": [],
   "source": [
    "i = Input(shape = (X_train[0].shape))\n",
    "o = LSTM(125)(i)\n",
    "o = Dense(10, activation = 'softmax')(o)\n",
    "\n",
    "model = Model(i,o)"
   ]
  },
  {
   "cell_type": "markdown",
   "id": "6708a023",
   "metadata": {},
   "source": [
    "# Compile and Train\n",
    "## We use ADAM as the optimizer, sparse categorical crossentropy as loss and accuracy as the metrics for compiling\n",
    "## We train the model for 12 epochs"
   ]
  },
  {
   "cell_type": "code",
   "execution_count": 5,
   "id": "e0e5e481",
   "metadata": {},
   "outputs": [],
   "source": [
    "model.compile(optimizer = 'adam', loss = 'sparse_categorical_crossentropy', metrics = ['accuracy'])"
   ]
  },
  {
   "cell_type": "code",
   "execution_count": 6,
   "id": "0672dc1e",
   "metadata": {},
   "outputs": [
    {
     "name": "stdout",
     "output_type": "stream",
     "text": [
      "Epoch 1/12\n",
      "1875/1875 [==============================] - 24s 9ms/step - loss: 0.3379 - accuracy: 0.8911 - val_loss: 0.1274 - val_accuracy: 0.9619\n",
      "Epoch 2/12\n",
      "1875/1875 [==============================] - 15s 8ms/step - loss: 0.1038 - accuracy: 0.9684 - val_loss: 0.1065 - val_accuracy: 0.9693\n",
      "Epoch 3/12\n",
      "1875/1875 [==============================] - 15s 8ms/step - loss: 0.0720 - accuracy: 0.9783 - val_loss: 0.0767 - val_accuracy: 0.9751\n",
      "Epoch 4/12\n",
      "1875/1875 [==============================] - 16s 8ms/step - loss: 0.0555 - accuracy: 0.9833 - val_loss: 0.0500 - val_accuracy: 0.9857\n",
      "Epoch 5/12\n",
      "1875/1875 [==============================] - 14s 8ms/step - loss: 0.0465 - accuracy: 0.9854 - val_loss: 0.0491 - val_accuracy: 0.9848\n",
      "Epoch 6/12\n",
      "1875/1875 [==============================] - 10s 5ms/step - loss: 0.0377 - accuracy: 0.9884 - val_loss: 0.0739 - val_accuracy: 0.9783\n",
      "Epoch 7/12\n",
      "1875/1875 [==============================] - 9s 5ms/step - loss: 0.0329 - accuracy: 0.9904 - val_loss: 0.0420 - val_accuracy: 0.9871\n",
      "Epoch 8/12\n",
      "1875/1875 [==============================] - 8s 4ms/step - loss: 0.0296 - accuracy: 0.9913 - val_loss: 0.0437 - val_accuracy: 0.9871\n",
      "Epoch 9/12\n",
      "1875/1875 [==============================] - 10s 5ms/step - loss: 0.0250 - accuracy: 0.9923 - val_loss: 0.0434 - val_accuracy: 0.9869\n",
      "Epoch 10/12\n",
      "1875/1875 [==============================] - 9s 5ms/step - loss: 0.0223 - accuracy: 0.9933 - val_loss: 0.0402 - val_accuracy: 0.9881\n",
      "Epoch 11/12\n",
      "1875/1875 [==============================] - 9s 5ms/step - loss: 0.0216 - accuracy: 0.9934 - val_loss: 0.0414 - val_accuracy: 0.9887\n",
      "Epoch 12/12\n",
      "1875/1875 [==============================] - 9s 5ms/step - loss: 0.0181 - accuracy: 0.9944 - val_loss: 0.0428 - val_accuracy: 0.9892\n"
     ]
    }
   ],
   "source": [
    "r = model.fit(X_train, y_train, validation_data = (X_test, y_test), epochs = 12)"
   ]
  },
  {
   "cell_type": "markdown",
   "id": "0ded1d5f",
   "metadata": {},
   "source": [
    "# Making a History plotter function\n",
    "## Plotting the loss and accuracy\n",
    "### The validation accuracy reached 98.92%"
   ]
  },
  {
   "cell_type": "code",
   "execution_count": 7,
   "id": "fb6c3fd6",
   "metadata": {},
   "outputs": [],
   "source": [
    "def history_printer(model, argument):\n",
    "    plt.plot(model.history[argument], label = argument)\n",
    "    plt.plot(model.history['val_'+argument], label = \"val_\"+argument)\n",
    "    plt.legend()"
   ]
  },
  {
   "cell_type": "code",
   "execution_count": 8,
   "id": "1270d668",
   "metadata": {},
   "outputs": [
    {
     "data": {
      "image/png": "[encoded data removed]",
      "text/plain": [
       "<Figure size 432x288 with 1 Axes>"
      ]
     },
     "metadata": {
      "needs_background": "light"
     },
     "output_type": "display_data"
    }
   ],
   "source": [
    "history_printer(r, 'loss')"
   ]
  },
  {
   "cell_type": "code",
   "execution_count": 10,
   "id": "fc15a0b7",
   "metadata": {},
   "outputs": [
    {
     "data": {
      "image/png": "[encoded data removed]",
      "text/plain": [
       "<Figure size 432x288 with 1 Axes>"
      ]
     },
     "metadata": {
      "needs_background": "light"
     },
     "output_type": "display_data"
    }
   ],
   "source": [
    "history_printer(r, 'accuracy')"
   ]
  },
  {
   "cell_type": "markdown",
   "id": "88cbac23",
   "metadata": {},
   "source": [
    "# Looking at some wrong predictions"
   ]
  },
  {
   "cell_type": "code",
   "execution_count": 17,
   "id": "487c4adc",
   "metadata": {},
   "outputs": [],
   "source": [
    "predictions = model.predict(X_test).argmax(axis = 1)\n",
    "wrong = np.where(predictions != y_test)[0]"
   ]
  },
  {
   "cell_type": "code",
   "execution_count": 24,
   "id": "00ee7502",
   "metadata": {},
   "outputs": [
    {
     "data": {
      "text/plain": [
       "Text(0.5, 1.0, '7 predicted as 1')"
      ]
     },
     "execution_count": 24,
     "metadata": {},
     "output_type": "execute_result"
    },
    {
     "data": {
      "image/png": "[encoded data removed]",
      "text/plain": [
       "<Figure size 432x288 with 1 Axes>"
      ]
     },
     "metadata": {
      "needs_background": "light"
     },
     "output_type": "display_data"
    }
   ],
   "source": [
    "wrong_choice = np.random.choice(wrong)\n",
    "\n",
    "plt.imshow(X_test[wrong_choice], cmap = 'gray')\n",
    "plt.title(f'{y_test[wrong_choice]} predicted as {predictions[wrong_choice]}')"
   ]
  }
 ],
 "metadata": {
  "kernelspec": {
   "display_name": "Python 3 (ipykernel)",
   "language": "python",
   "name": "python3"
  },
  "language_info": {
   "codemirror_mode": {
    "name": "ipython",
    "version": 3
   },
   "file_extension": ".py",
   "mimetype": "text/x-python",
   "name": "python",
   "nbconvert_exporter": "python",
   "pygments_lexer": "ipython3",
   "version": "3.9.6"
  }
 },
 "nbformat": 4,
 "nbformat_minor": 5
}
