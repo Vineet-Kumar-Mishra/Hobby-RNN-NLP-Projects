{
 "cells": [
  {
   "cell_type": "markdown",
   "id": "a6ea08d1",
   "metadata": {},
   "source": [
    "# Importing usefull libraries and activating the GPU"
   ]
  },
  {
   "cell_type": "code",
   "execution_count": 1,
   "id": "6d8ac86d",
   "metadata": {},
   "outputs": [],
   "source": [
    "from tensorflow.keras.models import Model\n",
    "from tensorflow.keras.layers import Input, Embedding, Flatten, Dense, Concatenate, Dropout\n",
    "from tensorflow.keras.optimizers import SGD\n",
    "from sklearn.utils import shuffle\n",
    "import numpy as np\n",
    "import pandas as pd\n",
    "import tensorflow as tf\n",
    "import seaborn as sns\n",
    "import matplotlib.pyplot as plt"
   ]
  },
  {
   "cell_type": "code",
   "execution_count": 2,
   "id": "7fa4b0d5",
   "metadata": {},
   "outputs": [
    {
     "name": "stdout",
     "output_type": "stream",
     "text": [
      "1 devices found\n"
     ]
    }
   ],
   "source": [
    "physical_devices = tf.config.experimental.list_physical_devices('GPU')\n",
    "print(f'{len(physical_devices)} devices found')\n",
    "tf.config.experimental.set_memory_growth(physical_devices[0], True)"
   ]
  },
  {
   "cell_type": "markdown",
   "id": "99051dd8",
   "metadata": {},
   "source": [
    "# Data\n",
    "### We use the movielens dataset\n",
    "### We load the rating data which contains movieID, userID and respective rating\n",
    "### We also load movies data to know which movie is represented by which movieID\n",
    "### Finally we merge the 2 dataframes"
   ]
  },
  {
   "cell_type": "code",
   "execution_count": 3,
   "id": "762a87c3",
   "metadata": {},
   "outputs": [
    {
     "name": "stdout",
     "output_type": "stream",
     "text": [
      "Wall time: 5.66 s\n"
     ]
    },
    {
     "data": {
      "text/html": [
       "<div>\n",
       "<style scoped>\n",
       "    .dataframe tbody tr th:only-of-type {\n",
       "        vertical-align: middle;\n",
       "    }\n",
       "\n",
       "    .dataframe tbody tr th {\n",
       "        vertical-align: top;\n",
       "    }\n",
       "\n",
       "    .dataframe thead th {\n",
       "        text-align: right;\n",
       "    }\n",
       "</style>\n",
       "<table border=\"1\" class=\"dataframe\">\n",
       "  <thead>\n",
       "    <tr style=\"text-align: right;\">\n",
       "      <th></th>\n",
       "      <th>userId</th>\n",
       "      <th>movieId</th>\n",
       "      <th>rating</th>\n",
       "      <th>timestamp</th>\n",
       "    </tr>\n",
       "  </thead>\n",
       "  <tbody>\n",
       "    <tr>\n",
       "      <th>0</th>\n",
       "      <td>1</td>\n",
       "      <td>2</td>\n",
       "      <td>3.5</td>\n",
       "      <td>1112486027</td>\n",
       "    </tr>\n",
       "    <tr>\n",
       "      <th>1</th>\n",
       "      <td>1</td>\n",
       "      <td>29</td>\n",
       "      <td>3.5</td>\n",
       "      <td>1112484676</td>\n",
       "    </tr>\n",
       "    <tr>\n",
       "      <th>2</th>\n",
       "      <td>1</td>\n",
       "      <td>32</td>\n",
       "      <td>3.5</td>\n",
       "      <td>1112484819</td>\n",
       "    </tr>\n",
       "    <tr>\n",
       "      <th>3</th>\n",
       "      <td>1</td>\n",
       "      <td>47</td>\n",
       "      <td>3.5</td>\n",
       "      <td>1112484727</td>\n",
       "    </tr>\n",
       "    <tr>\n",
       "      <th>4</th>\n",
       "      <td>1</td>\n",
       "      <td>50</td>\n",
       "      <td>3.5</td>\n",
       "      <td>1112484580</td>\n",
       "    </tr>\n",
       "  </tbody>\n",
       "</table>\n",
       "</div>"
      ],
      "text/plain": [
       "   userId  movieId  rating   timestamp\n",
       "0       1        2     3.5  1112486027\n",
       "1       1       29     3.5  1112484676\n",
       "2       1       32     3.5  1112484819\n",
       "3       1       47     3.5  1112484727\n",
       "4       1       50     3.5  1112484580"
      ]
     },
     "execution_count": 3,
     "metadata": {},
     "output_type": "execute_result"
    }
   ],
   "source": [
    "%%time\n",
    "df = pd.read_csv('ratings.csv')\n",
    "df.head()"
   ]
  },
  {
   "cell_type": "code",
   "execution_count": 4,
   "id": "57af2523",
   "metadata": {},
   "outputs": [
    {
     "data": {
      "text/html": [
       "<div>\n",
       "<style scoped>\n",
       "    .dataframe tbody tr th:only-of-type {\n",
       "        vertical-align: middle;\n",
       "    }\n",
       "\n",
       "    .dataframe tbody tr th {\n",
       "        vertical-align: top;\n",
       "    }\n",
       "\n",
       "    .dataframe thead th {\n",
       "        text-align: right;\n",
       "    }\n",
       "</style>\n",
       "<table border=\"1\" class=\"dataframe\">\n",
       "  <thead>\n",
       "    <tr style=\"text-align: right;\">\n",
       "      <th></th>\n",
       "      <th>movieId</th>\n",
       "      <th>title</th>\n",
       "      <th>genres</th>\n",
       "    </tr>\n",
       "  </thead>\n",
       "  <tbody>\n",
       "    <tr>\n",
       "      <th>0</th>\n",
       "      <td>1</td>\n",
       "      <td>Toy Story (1995)</td>\n",
       "      <td>Adventure|Animation|Children|Comedy|Fantasy</td>\n",
       "    </tr>\n",
       "    <tr>\n",
       "      <th>1</th>\n",
       "      <td>2</td>\n",
       "      <td>Jumanji (1995)</td>\n",
       "      <td>Adventure|Children|Fantasy</td>\n",
       "    </tr>\n",
       "    <tr>\n",
       "      <th>2</th>\n",
       "      <td>3</td>\n",
       "      <td>Grumpier Old Men (1995)</td>\n",
       "      <td>Comedy|Romance</td>\n",
       "    </tr>\n",
       "    <tr>\n",
       "      <th>3</th>\n",
       "      <td>4</td>\n",
       "      <td>Waiting to Exhale (1995)</td>\n",
       "      <td>Comedy|Drama|Romance</td>\n",
       "    </tr>\n",
       "    <tr>\n",
       "      <th>4</th>\n",
       "      <td>5</td>\n",
       "      <td>Father of the Bride Part II (1995)</td>\n",
       "      <td>Comedy</td>\n",
       "    </tr>\n",
       "  </tbody>\n",
       "</table>\n",
       "</div>"
      ],
      "text/plain": [
       "   movieId                               title  \\\n",
       "0        1                    Toy Story (1995)   \n",
       "1        2                      Jumanji (1995)   \n",
       "2        3             Grumpier Old Men (1995)   \n",
       "3        4            Waiting to Exhale (1995)   \n",
       "4        5  Father of the Bride Part II (1995)   \n",
       "\n",
       "                                        genres  \n",
       "0  Adventure|Animation|Children|Comedy|Fantasy  \n",
       "1                   Adventure|Children|Fantasy  \n",
       "2                               Comedy|Romance  \n",
       "3                         Comedy|Drama|Romance  \n",
       "4                                       Comedy  "
      ]
     },
     "execution_count": 4,
     "metadata": {},
     "output_type": "execute_result"
    }
   ],
   "source": [
    "movie_df = pd.read_csv('movies.csv')\n",
    "movie_df.head()"
   ]
  },
  {
   "cell_type": "code",
   "execution_count": 5,
   "id": "aa0a218e",
   "metadata": {},
   "outputs": [
    {
     "data": {
      "text/html": [
       "<div>\n",
       "<style scoped>\n",
       "    .dataframe tbody tr th:only-of-type {\n",
       "        vertical-align: middle;\n",
       "    }\n",
       "\n",
       "    .dataframe tbody tr th {\n",
       "        vertical-align: top;\n",
       "    }\n",
       "\n",
       "    .dataframe thead th {\n",
       "        text-align: right;\n",
       "    }\n",
       "</style>\n",
       "<table border=\"1\" class=\"dataframe\">\n",
       "  <thead>\n",
       "    <tr style=\"text-align: right;\">\n",
       "      <th></th>\n",
       "      <th>userId</th>\n",
       "      <th>movieId</th>\n",
       "      <th>rating</th>\n",
       "      <th>timestamp</th>\n",
       "      <th>title</th>\n",
       "      <th>genres</th>\n",
       "    </tr>\n",
       "  </thead>\n",
       "  <tbody>\n",
       "    <tr>\n",
       "      <th>0</th>\n",
       "      <td>1</td>\n",
       "      <td>2</td>\n",
       "      <td>3.5</td>\n",
       "      <td>1112486027</td>\n",
       "      <td>Jumanji (1995)</td>\n",
       "      <td>Adventure|Children|Fantasy</td>\n",
       "    </tr>\n",
       "    <tr>\n",
       "      <th>1</th>\n",
       "      <td>5</td>\n",
       "      <td>2</td>\n",
       "      <td>3.0</td>\n",
       "      <td>851527569</td>\n",
       "      <td>Jumanji (1995)</td>\n",
       "      <td>Adventure|Children|Fantasy</td>\n",
       "    </tr>\n",
       "    <tr>\n",
       "      <th>2</th>\n",
       "      <td>13</td>\n",
       "      <td>2</td>\n",
       "      <td>3.0</td>\n",
       "      <td>849082742</td>\n",
       "      <td>Jumanji (1995)</td>\n",
       "      <td>Adventure|Children|Fantasy</td>\n",
       "    </tr>\n",
       "    <tr>\n",
       "      <th>3</th>\n",
       "      <td>29</td>\n",
       "      <td>2</td>\n",
       "      <td>3.0</td>\n",
       "      <td>835562174</td>\n",
       "      <td>Jumanji (1995)</td>\n",
       "      <td>Adventure|Children|Fantasy</td>\n",
       "    </tr>\n",
       "    <tr>\n",
       "      <th>4</th>\n",
       "      <td>34</td>\n",
       "      <td>2</td>\n",
       "      <td>3.0</td>\n",
       "      <td>846509384</td>\n",
       "      <td>Jumanji (1995)</td>\n",
       "      <td>Adventure|Children|Fantasy</td>\n",
       "    </tr>\n",
       "  </tbody>\n",
       "</table>\n",
       "</div>"
      ],
      "text/plain": [
       "   userId  movieId  rating   timestamp           title  \\\n",
       "0       1        2     3.5  1112486027  Jumanji (1995)   \n",
       "1       5        2     3.0   851527569  Jumanji (1995)   \n",
       "2      13        2     3.0   849082742  Jumanji (1995)   \n",
       "3      29        2     3.0   835562174  Jumanji (1995)   \n",
       "4      34        2     3.0   846509384  Jumanji (1995)   \n",
       "\n",
       "                       genres  \n",
       "0  Adventure|Children|Fantasy  \n",
       "1  Adventure|Children|Fantasy  \n",
       "2  Adventure|Children|Fantasy  \n",
       "3  Adventure|Children|Fantasy  \n",
       "4  Adventure|Children|Fantasy  "
      ]
     },
     "execution_count": 5,
     "metadata": {},
     "output_type": "execute_result"
    }
   ],
   "source": [
    "df = df.merge(movie_df, on = 'movieId')\n",
    "df.head()"
   ]
  },
  {
   "cell_type": "code",
   "execution_count": 6,
   "id": "f0cd65ca",
   "metadata": {},
   "outputs": [
    {
     "name": "stdout",
     "output_type": "stream",
     "text": [
      "data types of dataframe is as follows \n",
      "\n",
      " userId         int64\n",
      "movieId        int64\n",
      "rating       float64\n",
      "timestamp      int64\n",
      "title         object\n",
      "genres        object\n",
      "dtype: object\n"
     ]
    }
   ],
   "source": [
    "print('data types of dataframe is as follows \\n\\n',df.dtypes)"
   ]
  },
  {
   "cell_type": "markdown",
   "id": "492a6f88",
   "metadata": {},
   "source": [
    "# Preprocessing\n",
    "### We want to find embedding for movieID and userID, so we convert them into categorical and then reconvert them into codes using pandas functions. This way we make sure that both the columns start from 0 .\n",
    "### After preprocessing we add new columns User_ID and Movie_ID to save the new representation."
   ]
  },
  {
   "cell_type": "code",
   "execution_count": 7,
   "id": "d536b079",
   "metadata": {},
   "outputs": [],
   "source": [
    "df['userId'] = pd.Categorical(df['userId'])\n",
    "df['movieId'] = pd.Categorical(df['movieId'])\n",
    "\n",
    "df['User_ID'] = df['userId'].cat.codes\n",
    "df['Movie_ID'] = df['movieId'].cat.codes"
   ]
  },
  {
   "cell_type": "code",
   "execution_count": 8,
   "id": "d6ce16c9",
   "metadata": {},
   "outputs": [
    {
     "data": {
      "text/html": [
       "<div>\n",
       "<style scoped>\n",
       "    .dataframe tbody tr th:only-of-type {\n",
       "        vertical-align: middle;\n",
       "    }\n",
       "\n",
       "    .dataframe tbody tr th {\n",
       "        vertical-align: top;\n",
       "    }\n",
       "\n",
       "    .dataframe thead th {\n",
       "        text-align: right;\n",
       "    }\n",
       "</style>\n",
       "<table border=\"1\" class=\"dataframe\">\n",
       "  <thead>\n",
       "    <tr style=\"text-align: right;\">\n",
       "      <th></th>\n",
       "      <th>userId</th>\n",
       "      <th>movieId</th>\n",
       "      <th>rating</th>\n",
       "      <th>timestamp</th>\n",
       "      <th>title</th>\n",
       "      <th>genres</th>\n",
       "      <th>User_ID</th>\n",
       "      <th>Movie_ID</th>\n",
       "    </tr>\n",
       "  </thead>\n",
       "  <tbody>\n",
       "    <tr>\n",
       "      <th>0</th>\n",
       "      <td>1</td>\n",
       "      <td>2</td>\n",
       "      <td>3.5</td>\n",
       "      <td>1112486027</td>\n",
       "      <td>Jumanji (1995)</td>\n",
       "      <td>Adventure|Children|Fantasy</td>\n",
       "      <td>0</td>\n",
       "      <td>1</td>\n",
       "    </tr>\n",
       "    <tr>\n",
       "      <th>1</th>\n",
       "      <td>5</td>\n",
       "      <td>2</td>\n",
       "      <td>3.0</td>\n",
       "      <td>851527569</td>\n",
       "      <td>Jumanji (1995)</td>\n",
       "      <td>Adventure|Children|Fantasy</td>\n",
       "      <td>4</td>\n",
       "      <td>1</td>\n",
       "    </tr>\n",
       "    <tr>\n",
       "      <th>2</th>\n",
       "      <td>13</td>\n",
       "      <td>2</td>\n",
       "      <td>3.0</td>\n",
       "      <td>849082742</td>\n",
       "      <td>Jumanji (1995)</td>\n",
       "      <td>Adventure|Children|Fantasy</td>\n",
       "      <td>12</td>\n",
       "      <td>1</td>\n",
       "    </tr>\n",
       "    <tr>\n",
       "      <th>3</th>\n",
       "      <td>29</td>\n",
       "      <td>2</td>\n",
       "      <td>3.0</td>\n",
       "      <td>835562174</td>\n",
       "      <td>Jumanji (1995)</td>\n",
       "      <td>Adventure|Children|Fantasy</td>\n",
       "      <td>28</td>\n",
       "      <td>1</td>\n",
       "    </tr>\n",
       "    <tr>\n",
       "      <th>4</th>\n",
       "      <td>34</td>\n",
       "      <td>2</td>\n",
       "      <td>3.0</td>\n",
       "      <td>846509384</td>\n",
       "      <td>Jumanji (1995)</td>\n",
       "      <td>Adventure|Children|Fantasy</td>\n",
       "      <td>33</td>\n",
       "      <td>1</td>\n",
       "    </tr>\n",
       "  </tbody>\n",
       "</table>\n",
       "</div>"
      ],
      "text/plain": [
       "  userId movieId  rating   timestamp           title  \\\n",
       "0      1       2     3.5  1112486027  Jumanji (1995)   \n",
       "1      5       2     3.0   851527569  Jumanji (1995)   \n",
       "2     13       2     3.0   849082742  Jumanji (1995)   \n",
       "3     29       2     3.0   835562174  Jumanji (1995)   \n",
       "4     34       2     3.0   846509384  Jumanji (1995)   \n",
       "\n",
       "                       genres  User_ID  Movie_ID  \n",
       "0  Adventure|Children|Fantasy        0         1  \n",
       "1  Adventure|Children|Fantasy        4         1  \n",
       "2  Adventure|Children|Fantasy       12         1  \n",
       "3  Adventure|Children|Fantasy       28         1  \n",
       "4  Adventure|Children|Fantasy       33         1  "
      ]
     },
     "execution_count": 8,
     "metadata": {},
     "output_type": "execute_result"
    }
   ],
   "source": [
    "df.head()"
   ]
  },
  {
   "cell_type": "markdown",
   "id": "c4832bf0",
   "metadata": {},
   "source": [
    "# Data\n",
    "### We only need the ID's and ratings for our regression task i.e. collaborative filtering"
   ]
  },
  {
   "cell_type": "code",
   "execution_count": 9,
   "id": "e945c9e9",
   "metadata": {},
   "outputs": [],
   "source": [
    "user_id = df['User_ID'].values\n",
    "movie_id = df['Movie_ID'].values\n",
    "rating = df['rating'].values"
   ]
  },
  {
   "cell_type": "markdown",
   "id": "cd0eb703",
   "metadata": {},
   "source": [
    "# Lengths\n",
    "### After preprocessing our ID's start from 0.\n",
    "### U stores total number of unique user IDs and M stores total number of unique movie IDs\n",
    "### We decide 25 dimensions as our embedding vector shape"
   ]
  },
  {
   "cell_type": "code",
   "execution_count": 10,
   "id": "373808e5",
   "metadata": {},
   "outputs": [
    {
     "name": "stdout",
     "output_type": "stream",
     "text": [
      "number of users are 138493\n",
      "number of movies are 26744\n"
     ]
    }
   ],
   "source": [
    "U = len(set(user_id))\n",
    "M = len(set(movie_id))\n",
    "\n",
    "dim_embedd = 15\n",
    "print(f'number of users are {U}')\n",
    "print(f'number of movies are {M}')"
   ]
  },
  {
   "cell_type": "markdown",
   "id": "eb43aab4",
   "metadata": {},
   "source": [
    "# Splitting\n",
    "### Instead of using train_test_split, we shuffle the data and use 70 % for training and rest for testing"
   ]
  },
  {
   "cell_type": "code",
   "execution_count": 11,
   "id": "53448c16",
   "metadata": {},
   "outputs": [],
   "source": [
    "user_id, movie_id, rating = shuffle(user_id, movie_id, rating)\n",
    "\n",
    "train_length = int(0.7*len(user_id))\n",
    "\n",
    "train_user = user_id[:train_length]\n",
    "train_movie = movie_id[:train_length]\n",
    "train_rating = rating[:train_length]\n",
    "\n",
    "\n",
    "test_user = user_id[train_length:]\n",
    "test_movie = movie_id[train_length:]\n",
    "test_rating = rating[train_length:]\n"
   ]
  },
  {
   "cell_type": "markdown",
   "id": "1d8b5443",
   "metadata": {},
   "source": [
    "# Model\n",
    "### This is a parallel model where the user ID and movie ID are input parallel\n",
    "### The IDs are Embedded separately i.e. parallely\n",
    "### We then join the flattened embeddings together for regression\n",
    "### We have 2 fully connected layers each with 512 neurons for regression.\n",
    "### We compile using mse as loss and SGD with learning rate = 0.08 and momentum = 0.9\n"
   ]
  },
  {
   "cell_type": "code",
   "execution_count": 12,
   "id": "bd0dbed7",
   "metadata": {},
   "outputs": [],
   "source": [
    "# Input the user and movie id's\n",
    "user_input = Input(shape = (1,))\n",
    "movie_input = Input(shape = (1,))\n",
    "\n",
    "# embedding for user and movie id's\n",
    "user_embedding = Embedding(U, dim_embedd)(user_input)\n",
    "movie_embedding = Embedding(M, dim_embedd)(movie_input)\n",
    "\n",
    "#Flattening the Embeddings\n",
    "user_embedding = Flatten()(user_embedding)\n",
    "movie_embedding = Flatten()(movie_embedding)\n",
    "\n",
    "# Concatenate the two embedding for regression of rating\n",
    "o = Concatenate()([user_embedding, movie_embedding])\n",
    "\n",
    "# Fully connected layers\n",
    "o = Dense(512, activation = 'relu')(o)\n",
    "o = Dropout(0.2)(o)\n",
    "o = Dense(512, activation = 'relu')(o)\n",
    "o = Dropout(0.2)(o)\n",
    "o = Dense(1)(o)"
   ]
  },
  {
   "cell_type": "code",
   "execution_count": 13,
   "id": "f794a10e",
   "metadata": {},
   "outputs": [
    {
     "name": "stderr",
     "output_type": "stream",
     "text": [
      "C:\\Users\\mishr\\AppData\\Roaming\\Python\\Python39\\site-packages\\tensorflow\\python\\keras\\optimizer_v2\\optimizer_v2.py:374: UserWarning: The `lr` argument is deprecated, use `learning_rate` instead.\n",
      "  warnings.warn(\n"
     ]
    }
   ],
   "source": [
    "model = Model(inputs = [user_input, movie_input], outputs = o)\n",
    "model.compile(optimizer = SGD(lr = 0.08, momentum = 0.9), loss = 'mse')"
   ]
  },
  {
   "cell_type": "code",
   "execution_count": 14,
   "id": "d1fe7ca3",
   "metadata": {},
   "outputs": [
    {
     "name": "stdout",
     "output_type": "stream",
     "text": [
      "Model: \"model\"\n",
      "__________________________________________________________________________________________________\n",
      "Layer (type)                    Output Shape         Param #     Connected to                     \n",
      "==================================================================================================\n",
      "input_1 (InputLayer)            [(None, 1)]          0                                            \n",
      "__________________________________________________________________________________________________\n",
      "input_2 (InputLayer)            [(None, 1)]          0                                            \n",
      "__________________________________________________________________________________________________\n",
      "embedding (Embedding)           (None, 1, 15)        2077395     input_1[0][0]                    \n",
      "__________________________________________________________________________________________________\n",
      "embedding_1 (Embedding)         (None, 1, 15)        401160      input_2[0][0]                    \n",
      "__________________________________________________________________________________________________\n",
      "flatten (Flatten)               (None, 15)           0           embedding[0][0]                  \n",
      "__________________________________________________________________________________________________\n",
      "flatten_1 (Flatten)             (None, 15)           0           embedding_1[0][0]                \n",
      "__________________________________________________________________________________________________\n",
      "concatenate (Concatenate)       (None, 30)           0           flatten[0][0]                    \n",
      "                                                                 flatten_1[0][0]                  \n",
      "__________________________________________________________________________________________________\n",
      "dense (Dense)                   (None, 512)          15872       concatenate[0][0]                \n",
      "__________________________________________________________________________________________________\n",
      "dropout (Dropout)               (None, 512)          0           dense[0][0]                      \n",
      "__________________________________________________________________________________________________\n",
      "dense_1 (Dense)                 (None, 512)          262656      dropout[0][0]                    \n",
      "__________________________________________________________________________________________________\n",
      "dropout_1 (Dropout)             (None, 512)          0           dense_1[0][0]                    \n",
      "__________________________________________________________________________________________________\n",
      "dense_2 (Dense)                 (None, 1)            513         dropout_1[0][0]                  \n",
      "==================================================================================================\n",
      "Total params: 2,757,596\n",
      "Trainable params: 2,757,596\n",
      "Non-trainable params: 0\n",
      "__________________________________________________________________________________________________\n"
     ]
    }
   ],
   "source": [
    "model.summary()"
   ]
  },
  {
   "cell_type": "markdown",
   "id": "2a61d34b",
   "metadata": {},
   "source": [
    "# Fitting the model\n",
    "### We train the model for 20 epochs"
   ]
  },
  {
   "cell_type": "code",
   "execution_count": 15,
   "id": "84a6c81e",
   "metadata": {},
   "outputs": [
    {
     "name": "stdout",
     "output_type": "stream",
     "text": [
      "Epoch 1/28\n",
      "6837/6837 [==============================] - 47s 6ms/step - loss: 0.8457 - val_loss: 0.7613\n",
      "Epoch 2/28\n",
      "6837/6837 [==============================] - 43s 6ms/step - loss: 0.7354 - val_loss: 0.7336\n",
      "Epoch 3/28\n",
      "6837/6837 [==============================] - 42s 6ms/step - loss: 0.7099 - val_loss: 0.7218\n",
      "Epoch 4/28\n",
      "6837/6837 [==============================] - 43s 6ms/step - loss: 0.6950 - val_loss: 0.7103\n",
      "Epoch 5/28\n",
      "6837/6837 [==============================] - 42s 6ms/step - loss: 0.6857 - val_loss: 0.6994\n",
      "Epoch 6/28\n",
      "6837/6837 [==============================] - 43s 6ms/step - loss: 0.6777 - val_loss: 0.7139\n",
      "Epoch 7/28\n",
      "6837/6837 [==============================] - 45s 7ms/step - loss: 0.6697 - val_loss: 0.7026\n",
      "Epoch 8/28\n",
      "6837/6837 [==============================] - 45s 7ms/step - loss: 0.6624 - val_loss: 0.7091\n",
      "Epoch 9/28\n",
      "6837/6837 [==============================] - 44s 6ms/step - loss: 0.6566 - val_loss: 0.6820\n",
      "Epoch 10/28\n",
      "6837/6837 [==============================] - 46s 7ms/step - loss: 0.6516 - val_loss: 0.6899\n",
      "Epoch 11/28\n",
      "6837/6837 [==============================] - 44s 6ms/step - loss: 0.6471 - val_loss: 0.6830\n",
      "Epoch 12/28\n",
      "6837/6837 [==============================] - 44s 6ms/step - loss: 0.6422 - val_loss: 0.6833\n",
      "Epoch 13/28\n",
      "6837/6837 [==============================] - 45s 7ms/step - loss: 0.6370 - val_loss: 0.6716\n",
      "Epoch 14/28\n",
      "6837/6837 [==============================] - 44s 6ms/step - loss: 0.6311 - val_loss: 0.6726\n",
      "Epoch 15/28\n",
      "6837/6837 [==============================] - 45s 7ms/step - loss: 0.6251 - val_loss: 0.6677\n",
      "Epoch 16/28\n",
      "6837/6837 [==============================] - 51s 7ms/step - loss: 0.6193 - val_loss: 0.6675\n",
      "Epoch 17/28\n",
      "6837/6837 [==============================] - 52s 8ms/step - loss: 0.6130 - val_loss: 0.6714\n",
      "Epoch 18/28\n",
      "6837/6837 [==============================] - 51s 7ms/step - loss: 0.6068 - val_loss: 0.6627\n",
      "Epoch 19/28\n",
      "6837/6837 [==============================] - 44s 6ms/step - loss: 0.6009 - val_loss: 0.6565\n",
      "Epoch 20/28\n",
      "6837/6837 [==============================] - 47s 7ms/step - loss: 0.5956 - val_loss: 0.6512\n",
      "Epoch 21/28\n",
      "6837/6837 [==============================] - 46s 7ms/step - loss: 0.5908 - val_loss: 0.6470\n",
      "Epoch 22/28\n",
      "6837/6837 [==============================] - 45s 7ms/step - loss: 0.5865 - val_loss: 0.6494\n",
      "Epoch 23/28\n",
      "6837/6837 [==============================] - 50s 7ms/step - loss: 0.5821 - val_loss: 0.6509\n",
      "Epoch 24/28\n",
      "6837/6837 [==============================] - 47s 7ms/step - loss: 0.5777 - val_loss: 0.6475\n",
      "Epoch 25/28\n",
      "6837/6837 [==============================] - 45s 7ms/step - loss: 0.5732 - val_loss: 0.6493\n",
      "Epoch 26/28\n",
      "6837/6837 [==============================] - 51s 8ms/step - loss: 0.5690 - val_loss: 0.6451\n",
      "Epoch 27/28\n",
      "6837/6837 [==============================] - 46s 7ms/step - loss: 0.5643 - val_loss: 0.6553\n",
      "Epoch 28/28\n",
      "6837/6837 [==============================] - 51s 7ms/step - loss: 0.5598 - val_loss: 0.6431\n"
     ]
    }
   ],
   "source": [
    "r = model.fit([train_user, train_movie], train_rating,\n",
    "              validation_data = ([test_user, test_movie], test_rating),\n",
    "             batch_size = 2048,\n",
    "             epochs = 28)"
   ]
  },
  {
   "cell_type": "markdown",
   "id": "ebbd895f",
   "metadata": {},
   "source": [
    "# History plotter\n",
    "### The history plotter plots the training and validation loss at each epochs"
   ]
  },
  {
   "cell_type": "code",
   "execution_count": 16,
   "id": "6d486f85",
   "metadata": {},
   "outputs": [],
   "source": [
    "def history_plotter(model, argument):\n",
    "    sns.set()\n",
    "    plt.plot(model.history[argument], label = argument)\n",
    "    plt.plot(model.history['val_'+argument], label = 'validation '+argument)\n",
    "    plt.legend()\n",
    "    plt.xlabel('Epochs')\n",
    "    plt.ylabel(argument)\n",
    "    plt.title(argument)"
   ]
  },
  {
   "cell_type": "code",
   "execution_count": 17,
   "id": "5522452e",
   "metadata": {},
   "outputs": [
    {
     "data": {
      "image/png": "[encoded data removed]",
      "text/plain": [
       "<Figure size 432x288 with 1 Axes>"
      ]
     },
     "metadata": {},
     "output_type": "display_data"
    }
   ],
   "source": [
    "history_plotter(r, 'loss')"
   ]
  }
 ],
 "metadata": {
  "kernelspec": {
   "display_name": "Python 3 (ipykernel)",
   "language": "python",
   "name": "python3"
  },
  "language_info": {
   "codemirror_mode": {
    "name": "ipython",
    "version": 3
   },
   "file_extension": ".py",
   "mimetype": "text/x-python",
   "name": "python",
   "nbconvert_exporter": "python",
   "pygments_lexer": "ipython3",
   "version": "3.9.6"
  }
 },
 "nbformat": 4,
 "nbformat_minor": 5
}
