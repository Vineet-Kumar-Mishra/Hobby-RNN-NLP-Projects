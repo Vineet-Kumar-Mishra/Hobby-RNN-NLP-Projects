{
 "cells": [
  {
   "cell_type": "markdown",
   "id": "06f83c71",
   "metadata": {},
   "source": [
    "# Importing important libraries and activating the GPU"
   ]
  },
  {
   "cell_type": "code",
   "execution_count": 1,
   "id": "35b9452b",
   "metadata": {},
   "outputs": [],
   "source": [
    "import tensorflow as tf\n",
    "from tensorflow.keras.layers import Input,Embedding, LSTM, Dense, GlobalMaxPooling1D\n",
    "from sklearn.model_selection import train_test_split\n",
    "from tensorflow.keras.models import Model\n",
    "from tensorflow.keras.preprocessing.text import Tokenizer\n",
    "from tensorflow.keras.preprocessing.sequence import pad_sequences\n",
    "\n",
    "import numpy as np\n",
    "import pandas as pd\n",
    "import matplotlib.pyplot as plt"
   ]
  },
  {
   "cell_type": "code",
   "execution_count": 2,
   "id": "f4fcc2e4",
   "metadata": {},
   "outputs": [
    {
     "name": "stdout",
     "output_type": "stream",
     "text": [
      "1 are avilable\n"
     ]
    }
   ],
   "source": [
    "physical_devices = tf.config.experimental.list_physical_devices('GPU')\n",
    "print(f'{len(physical_devices)} are avilable')\n",
    "tf.config.experimental.set_memory_growth(physical_devices[0], True)"
   ]
  },
  {
   "cell_type": "markdown",
   "id": "8e3147d6",
   "metadata": {},
   "source": [
    "# The file spam.csv\n",
    "## This file has encoding 'ISO-8859-1'\n",
    "### Dropping the useless columns and renaming the columns\n",
    "### The labels are maped usign following dictionary {'ham' : 0, 'spam' : 1}"
   ]
  },
  {
   "cell_type": "code",
   "execution_count": 3,
   "id": "ca7a0acf",
   "metadata": {},
   "outputs": [],
   "source": [
    "df = pd.read_csv('spam.csv', encoding='ISO-8859-1')"
   ]
  },
  {
   "cell_type": "code",
   "execution_count": 4,
   "id": "7c251592",
   "metadata": {},
   "outputs": [
    {
     "data": {
      "text/html": [
       "<div>\n",
       "<style scoped>\n",
       "    .dataframe tbody tr th:only-of-type {\n",
       "        vertical-align: middle;\n",
       "    }\n",
       "\n",
       "    .dataframe tbody tr th {\n",
       "        vertical-align: top;\n",
       "    }\n",
       "\n",
       "    .dataframe thead th {\n",
       "        text-align: right;\n",
       "    }\n",
       "</style>\n",
       "<table border=\"1\" class=\"dataframe\">\n",
       "  <thead>\n",
       "    <tr style=\"text-align: right;\">\n",
       "      <th></th>\n",
       "      <th>v1</th>\n",
       "      <th>v2</th>\n",
       "      <th>Unnamed: 2</th>\n",
       "      <th>Unnamed: 3</th>\n",
       "      <th>Unnamed: 4</th>\n",
       "    </tr>\n",
       "  </thead>\n",
       "  <tbody>\n",
       "    <tr>\n",
       "      <th>0</th>\n",
       "      <td>ham</td>\n",
       "      <td>Go until jurong point, crazy.. Available only ...</td>\n",
       "      <td>NaN</td>\n",
       "      <td>NaN</td>\n",
       "      <td>NaN</td>\n",
       "    </tr>\n",
       "    <tr>\n",
       "      <th>1</th>\n",
       "      <td>ham</td>\n",
       "      <td>Ok lar... Joking wif u oni...</td>\n",
       "      <td>NaN</td>\n",
       "      <td>NaN</td>\n",
       "      <td>NaN</td>\n",
       "    </tr>\n",
       "    <tr>\n",
       "      <th>2</th>\n",
       "      <td>spam</td>\n",
       "      <td>Free entry in 2 a wkly comp to win FA Cup fina...</td>\n",
       "      <td>NaN</td>\n",
       "      <td>NaN</td>\n",
       "      <td>NaN</td>\n",
       "    </tr>\n",
       "    <tr>\n",
       "      <th>3</th>\n",
       "      <td>ham</td>\n",
       "      <td>U dun say so early hor... U c already then say...</td>\n",
       "      <td>NaN</td>\n",
       "      <td>NaN</td>\n",
       "      <td>NaN</td>\n",
       "    </tr>\n",
       "    <tr>\n",
       "      <th>4</th>\n",
       "      <td>ham</td>\n",
       "      <td>Nah I don't think he goes to usf, he lives aro...</td>\n",
       "      <td>NaN</td>\n",
       "      <td>NaN</td>\n",
       "      <td>NaN</td>\n",
       "    </tr>\n",
       "    <tr>\n",
       "      <th>5</th>\n",
       "      <td>spam</td>\n",
       "      <td>FreeMsg Hey there darling it's been 3 week's n...</td>\n",
       "      <td>NaN</td>\n",
       "      <td>NaN</td>\n",
       "      <td>NaN</td>\n",
       "    </tr>\n",
       "    <tr>\n",
       "      <th>6</th>\n",
       "      <td>ham</td>\n",
       "      <td>Even my brother is not like to speak with me. ...</td>\n",
       "      <td>NaN</td>\n",
       "      <td>NaN</td>\n",
       "      <td>NaN</td>\n",
       "    </tr>\n",
       "    <tr>\n",
       "      <th>7</th>\n",
       "      <td>ham</td>\n",
       "      <td>As per your request 'Melle Melle (Oru Minnamin...</td>\n",
       "      <td>NaN</td>\n",
       "      <td>NaN</td>\n",
       "      <td>NaN</td>\n",
       "    </tr>\n",
       "    <tr>\n",
       "      <th>8</th>\n",
       "      <td>spam</td>\n",
       "      <td>WINNER!! As a valued network customer you have...</td>\n",
       "      <td>NaN</td>\n",
       "      <td>NaN</td>\n",
       "      <td>NaN</td>\n",
       "    </tr>\n",
       "    <tr>\n",
       "      <th>9</th>\n",
       "      <td>spam</td>\n",
       "      <td>Had your mobile 11 months or more? U R entitle...</td>\n",
       "      <td>NaN</td>\n",
       "      <td>NaN</td>\n",
       "      <td>NaN</td>\n",
       "    </tr>\n",
       "  </tbody>\n",
       "</table>\n",
       "</div>"
      ],
      "text/plain": [
       "     v1                                                 v2 Unnamed: 2  \\\n",
       "0   ham  Go until jurong point, crazy.. Available only ...        NaN   \n",
       "1   ham                      Ok lar... Joking wif u oni...        NaN   \n",
       "2  spam  Free entry in 2 a wkly comp to win FA Cup fina...        NaN   \n",
       "3   ham  U dun say so early hor... U c already then say...        NaN   \n",
       "4   ham  Nah I don't think he goes to usf, he lives aro...        NaN   \n",
       "5  spam  FreeMsg Hey there darling it's been 3 week's n...        NaN   \n",
       "6   ham  Even my brother is not like to speak with me. ...        NaN   \n",
       "7   ham  As per your request 'Melle Melle (Oru Minnamin...        NaN   \n",
       "8  spam  WINNER!! As a valued network customer you have...        NaN   \n",
       "9  spam  Had your mobile 11 months or more? U R entitle...        NaN   \n",
       "\n",
       "  Unnamed: 3 Unnamed: 4  \n",
       "0        NaN        NaN  \n",
       "1        NaN        NaN  \n",
       "2        NaN        NaN  \n",
       "3        NaN        NaN  \n",
       "4        NaN        NaN  \n",
       "5        NaN        NaN  \n",
       "6        NaN        NaN  \n",
       "7        NaN        NaN  \n",
       "8        NaN        NaN  \n",
       "9        NaN        NaN  "
      ]
     },
     "execution_count": 4,
     "metadata": {},
     "output_type": "execute_result"
    }
   ],
   "source": [
    "df.head(10)"
   ]
  },
  {
   "cell_type": "code",
   "execution_count": 5,
   "id": "9b789093",
   "metadata": {},
   "outputs": [],
   "source": [
    "df.drop(['Unnamed: 2', 'Unnamed: 3', 'Unnamed: 4'], axis = 1, inplace = True)"
   ]
  },
  {
   "cell_type": "code",
   "execution_count": 6,
   "id": "60effb1a",
   "metadata": {},
   "outputs": [
    {
     "data": {
      "text/html": [
       "<div>\n",
       "<style scoped>\n",
       "    .dataframe tbody tr th:only-of-type {\n",
       "        vertical-align: middle;\n",
       "    }\n",
       "\n",
       "    .dataframe tbody tr th {\n",
       "        vertical-align: top;\n",
       "    }\n",
       "\n",
       "    .dataframe thead th {\n",
       "        text-align: right;\n",
       "    }\n",
       "</style>\n",
       "<table border=\"1\" class=\"dataframe\">\n",
       "  <thead>\n",
       "    <tr style=\"text-align: right;\">\n",
       "      <th></th>\n",
       "      <th>label</th>\n",
       "      <th>message</th>\n",
       "    </tr>\n",
       "  </thead>\n",
       "  <tbody>\n",
       "    <tr>\n",
       "      <th>0</th>\n",
       "      <td>ham</td>\n",
       "      <td>Go until jurong point, crazy.. Available only ...</td>\n",
       "    </tr>\n",
       "    <tr>\n",
       "      <th>1</th>\n",
       "      <td>ham</td>\n",
       "      <td>Ok lar... Joking wif u oni...</td>\n",
       "    </tr>\n",
       "    <tr>\n",
       "      <th>2</th>\n",
       "      <td>spam</td>\n",
       "      <td>Free entry in 2 a wkly comp to win FA Cup fina...</td>\n",
       "    </tr>\n",
       "    <tr>\n",
       "      <th>3</th>\n",
       "      <td>ham</td>\n",
       "      <td>U dun say so early hor... U c already then say...</td>\n",
       "    </tr>\n",
       "    <tr>\n",
       "      <th>4</th>\n",
       "      <td>ham</td>\n",
       "      <td>Nah I don't think he goes to usf, he lives aro...</td>\n",
       "    </tr>\n",
       "  </tbody>\n",
       "</table>\n",
       "</div>"
      ],
      "text/plain": [
       "  label                                            message\n",
       "0   ham  Go until jurong point, crazy.. Available only ...\n",
       "1   ham                      Ok lar... Joking wif u oni...\n",
       "2  spam  Free entry in 2 a wkly comp to win FA Cup fina...\n",
       "3   ham  U dun say so early hor... U c already then say...\n",
       "4   ham  Nah I don't think he goes to usf, he lives aro..."
      ]
     },
     "execution_count": 6,
     "metadata": {},
     "output_type": "execute_result"
    }
   ],
   "source": [
    "df.columns = ['label','message']\n",
    "df.head()"
   ]
  },
  {
   "cell_type": "code",
   "execution_count": 7,
   "id": "35555f20",
   "metadata": {},
   "outputs": [],
   "source": [
    "df['label'] = df['label'].map({'ham':0, 'spam':1})\n",
    "y = df['label'].values"
   ]
  },
  {
   "cell_type": "code",
   "execution_count": 8,
   "id": "db2e491a",
   "metadata": {},
   "outputs": [],
   "source": [
    "X_train, X_test, y_train, y_test = train_test_split(df['message'], y, test_size=0.3)"
   ]
  },
  {
   "cell_type": "markdown",
   "id": "c91b913f",
   "metadata": {},
   "source": [
    "# Text processing\n",
    "## We select the maximum vocabulary size i.e. number of distinct words (tokens) as 20000\n",
    "### The tokenizer object tokenizes each distinct word by providing a integer value to it by doing fit_on_texts\n",
    "### These tokens (integers) are used to convert a sentence into a sequence (vector)\n",
    "\n",
    "### The tokenizer.word_index gives the dictionary where the istinct word is key and assigned integer is value"
   ]
  },
  {
   "cell_type": "code",
   "execution_count": 9,
   "id": "f17a337d",
   "metadata": {},
   "outputs": [],
   "source": [
    "max_vocab_size = 20000\n",
    "tokenizer = Tokenizer(num_words = max_vocab_size)\n",
    "tokenizer.fit_on_texts(X_train)\n",
    "train_sequence = tokenizer.texts_to_sequences(X_train)\n",
    "test_sequence = tokenizer.texts_to_sequences(X_test)"
   ]
  },
  {
   "cell_type": "code",
   "execution_count": 10,
   "id": "b28a7c9a",
   "metadata": {},
   "outputs": [
    {
     "name": "stdout",
     "output_type": "stream",
     "text": [
      "7466 number of tokens found\n"
     ]
    }
   ],
   "source": [
    "word_to_index_dict = tokenizer.word_index\n",
    "print(f'{len(word_to_index_dict)} number of tokens found')"
   ]
  },
  {
   "cell_type": "markdown",
   "id": "91795dbf",
   "metadata": {},
   "source": [
    "# Sequence processing\n",
    "### Once the sequence is found , it's not always of same length hence we pad them with zeros \n",
    "### by default the 0's are added infront , we did it in train sequence\n",
    "### In test_sequence we set the max length as the length of padded train sequence"
   ]
  },
  {
   "cell_type": "code",
   "execution_count": 11,
   "id": "eef84c89",
   "metadata": {},
   "outputs": [],
   "source": [
    "train_sequence = pad_sequences(train_sequence)"
   ]
  },
  {
   "cell_type": "code",
   "execution_count": 12,
   "id": "40008677",
   "metadata": {},
   "outputs": [],
   "source": [
    "test_sequence = pad_sequences(test_sequence, maxlen = train_sequence.shape[1])"
   ]
  },
  {
   "cell_type": "markdown",
   "id": "ace21233",
   "metadata": {},
   "source": [
    "# Model\n",
    "### The input is the sequences\n",
    "### the Embedding layer is very important since it converts these words into vectors which are interpretable i.e. similar words will have greater cosine similarity and vice-versa. The input if number of distinct words +1 and the output representation is 20 dimensional vector. This 20 dimensions is hyperparameter\n",
    "### The LSTM unit has 15 neurons with tanh activation\n",
    "### GlobalMaxpooling1D is added\n",
    "### This is binary classification hence we add 1 neuron in output layer with sigmoid activation"
   ]
  },
  {
   "cell_type": "code",
   "execution_count": 13,
   "id": "a34dfc5f",
   "metadata": {},
   "outputs": [],
   "source": [
    "# The embedding vector size is selected 20\n",
    "# units in LSTM is 15\n",
    "\n",
    "i = Input(shape = (train_sequence.shape[1],))\n",
    "o = Embedding((len(word_to_index_dict)+1), 20)(i)\n",
    "o = LSTM(15, return_sequences=True)(o)\n",
    "o = GlobalMaxPooling1D()(o)\n",
    "o = Dense(1, activation = 'sigmoid')(o)\n",
    "\n",
    "model = Model(i,o)"
   ]
  },
  {
   "cell_type": "markdown",
   "id": "b61b97fd",
   "metadata": {},
   "source": [
    "# Compile and Fit\n",
    "### We use ADAM as optimizer, binary crossentropy as loss function and accuracy as metric\n",
    "### The model is trained for 12 epochs"
   ]
  },
  {
   "cell_type": "code",
   "execution_count": 14,
   "id": "2925bdc0",
   "metadata": {},
   "outputs": [],
   "source": [
    "model.compile(optimizer = 'adam', loss = 'binary_crossentropy', metrics = ['accuracy'])"
   ]
  },
  {
   "cell_type": "code",
   "execution_count": 15,
   "id": "f08ab162",
   "metadata": {},
   "outputs": [
    {
     "name": "stdout",
     "output_type": "stream",
     "text": [
      "Epoch 1/12\n",
      "122/122 [==============================] - 5s 17ms/step - loss: 0.4467 - accuracy: 0.8669 - val_loss: 0.3883 - val_accuracy: 0.8636\n",
      "Epoch 2/12\n",
      "122/122 [==============================] - 2s 15ms/step - loss: 0.3249 - accuracy: 0.8669 - val_loss: 0.2755 - val_accuracy: 0.8636\n",
      "Epoch 3/12\n",
      "122/122 [==============================] - 2s 15ms/step - loss: 0.2309 - accuracy: 0.8669 - val_loss: 0.2069 - val_accuracy: 0.8636\n",
      "Epoch 4/12\n",
      "122/122 [==============================] - 2s 16ms/step - loss: 0.1572 - accuracy: 0.9462 - val_loss: 0.1370 - val_accuracy: 0.9761\n",
      "Epoch 5/12\n",
      "122/122 [==============================] - 2s 15ms/step - loss: 0.0870 - accuracy: 0.9903 - val_loss: 0.0961 - val_accuracy: 0.9803\n",
      "Epoch 6/12\n",
      "122/122 [==============================] - 2s 15ms/step - loss: 0.0475 - accuracy: 0.9941 - val_loss: 0.0753 - val_accuracy: 0.9839\n",
      "Epoch 7/12\n",
      "122/122 [==============================] - 2s 15ms/step - loss: 0.0299 - accuracy: 0.9967 - val_loss: 0.0655 - val_accuracy: 0.9868\n",
      "Epoch 8/12\n",
      "122/122 [==============================] - 2s 14ms/step - loss: 0.0207 - accuracy: 0.9992 - val_loss: 0.0699 - val_accuracy: 0.9856\n",
      "Epoch 9/12\n",
      "122/122 [==============================] - 2s 15ms/step - loss: 0.0152 - accuracy: 0.9992 - val_loss: 0.0651 - val_accuracy: 0.9868\n",
      "Epoch 10/12\n",
      "122/122 [==============================] - 2s 14ms/step - loss: 0.0118 - accuracy: 0.9997 - val_loss: 0.0692 - val_accuracy: 0.9850\n",
      "Epoch 11/12\n",
      "122/122 [==============================] - 2s 15ms/step - loss: 0.0088 - accuracy: 0.9997 - val_loss: 0.0693 - val_accuracy: 0.9856\n",
      "Epoch 12/12\n",
      "122/122 [==============================] - 2s 14ms/step - loss: 0.0068 - accuracy: 0.9997 - val_loss: 0.0713 - val_accuracy: 0.9856\n"
     ]
    }
   ],
   "source": [
    "r = model.fit(train_sequence, y_train, validation_data = (test_sequence, y_test), epochs = 12)"
   ]
  },
  {
   "cell_type": "markdown",
   "id": "8d46ec12",
   "metadata": {},
   "source": [
    "# History plotter function\n",
    "\n",
    "###  This plots the history object with argument as 'loss' and 'accuracy'"
   ]
  },
  {
   "cell_type": "code",
   "execution_count": 19,
   "id": "598e0065",
   "metadata": {},
   "outputs": [],
   "source": [
    "def history_printer(model, argument):\n",
    "    plt.plot(model.history[argument], label = argument)\n",
    "    plt.plot(model.history['val_'+argument], label = \"val_\"+argument)\n",
    "    plt.xlabel('Epoch')\n",
    "    plt.ylabel(argument)\n",
    "    plt.legend()"
   ]
  },
  {
   "cell_type": "code",
   "execution_count": 20,
   "id": "9ee86e0f",
   "metadata": {},
   "outputs": [
    {
     "data": {
      "image/png": "[encoded data removed]",
      "text/plain": [
       "<Figure size 432x288 with 1 Axes>"
      ]
     },
     "metadata": {
      "needs_background": "light"
     },
     "output_type": "display_data"
    }
   ],
   "source": [
    "history_printer(r, 'loss')"
   ]
  },
  {
   "cell_type": "code",
   "execution_count": 21,
   "id": "83706fb0",
   "metadata": {},
   "outputs": [
    {
     "data": {
      "image/png": "[encoded data removed]",
      "text/plain": [
       "<Figure size 432x288 with 1 Axes>"
      ]
     },
     "metadata": {
      "needs_background": "light"
     },
     "output_type": "display_data"
    }
   ],
   "source": [
    "history_printer(r, 'accuracy')"
   ]
  }
 ],
 "metadata": {
  "kernelspec": {
   "display_name": "Python 3 (ipykernel)",
   "language": "python",
   "name": "python3"
  },
  "language_info": {
   "codemirror_mode": {
    "name": "ipython",
    "version": 3
   },
   "file_extension": ".py",
   "mimetype": "text/x-python",
   "name": "python",
   "nbconvert_exporter": "python",
   "pygments_lexer": "ipython3",
   "version": "3.9.6"
  }
 },
 "nbformat": 4,
 "nbformat_minor": 5
}
